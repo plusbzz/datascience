{
 "cells": [
  {
   "cell_type": "code",
   "execution_count": null,
   "metadata": {
    "collapsed": false
   },
   "outputs": [],
   "source": [
    "#!/usr/bin/python\n",
    "\n",
    "import pickle\n",
    "import numpy\n",
    "from sklearn import cross_validation\n",
    "from sklearn.feature_extraction.text import TfidfVectorizer\n",
    "from sklearn.tree import DecisionTreeClassifier\n",
    "numpy.random.seed(42)\n",
    "\n",
    "\n",
    "# The words (features) and authors (labels), already largely processed.\n",
    "# These files should have been created from the previous (Lesson 10)\n",
    "# mini-project.\n",
    "words_file = \"../text_learning/your_word_data.pkl\"\n",
    "authors_file = \"../text_learning/your_email_authors.pkl\"\n",
    "word_data = pickle.load(open(words_file, \"r\"))\n",
    "authors = pickle.load(open(authors_file, \"r\"))\n",
    "\n",
    "# test_size is the percentage of events assigned to the test set (the\n",
    "# remainder go into training)\n",
    "# feature matrices changed to dense representations for compatibility with\n",
    "# classifier functions in versions 0.15.2 and earlier\n",
    "\n",
    "features_train, features_test, labels_train, labels_test =\\\n",
    "    cross_validation.train_test_split(word_data, authors, test_size=0.1,\n",
    "                                      random_state=42)\n",
    "\n",
    "vectorizer = TfidfVectorizer(sublinear_tf=True, max_df=0.5,\n",
    "                             stop_words='english')\n",
    "features_train = vectorizer.fit_transform(features_train)\n",
    "features_test = vectorizer.transform(features_test).toarray()\n",
    "\n",
    "# a classic way to overfit is to use a small number\n",
    "# of data points and a large number of features;\n",
    "# train on only 150 events to put ourselves in this regime\n",
    "\n",
    "features_train = features_train[:150].toarray()\n",
    "labels_train = labels_train[:150]\n",
    "\n",
    "\n"
   ]
  },
  {
   "cell_type": "code",
   "execution_count": null,
   "metadata": {
    "collapsed": false
   },
   "outputs": [],
   "source": [
    "clf = DecisionTreeClassifier()\n",
    "clf.fit(features_train, labels_train)\n",
    "print('accuracy'), clf.score(features_test, labels_test)\n",
    "print('n points'), len(labels_train)\n",
    "i = 0\n",
    "for feature in clf.feature_importances_:\n",
    "    if feature >= .1:\n",
    "        print('feature', i, 'name', vectorizer.get_feature_names()[ii], 'importance', feature)\n",
    "    i += 1"
   ]
  },
  {
   "cell_type": "code",
   "execution_count": null,
   "metadata": {
    "collapsed": true
   },
   "outputs": [],
   "source": []
  }
 ],
 "metadata": {
  "kernelspec": {
   "display_name": "Python 3",
   "language": "python",
   "name": "python3"
  },
  "language_info": {
   "codemirror_mode": {
    "name": "ipython",
    "version": 3
   },
   "file_extension": ".py",
   "mimetype": "text/x-python",
   "name": "python",
   "nbconvert_exporter": "python",
   "pygments_lexer": "ipython3",
   "version": "3.5.0"
  }
 },
 "nbformat": 4,
 "nbformat_minor": 0
}
